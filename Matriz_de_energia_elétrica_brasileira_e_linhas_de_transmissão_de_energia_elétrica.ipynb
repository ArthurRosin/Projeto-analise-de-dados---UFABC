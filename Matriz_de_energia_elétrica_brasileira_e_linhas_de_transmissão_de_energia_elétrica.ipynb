{
  "nbformat": 4,
  "nbformat_minor": 0,
  "metadata": {
    "colab": {
      "name": "Matriz de energia elétrica brasileira e linhas de transmissão de energia elétrica ",
      "provenance": [],
      "collapsed_sections": [],
      "mount_file_id": "1jWlVGw_aZRpgVg-9Pi3sQHqcMukkYkkR",
      "authorship_tag": "ABX9TyNslvf8CorE+KbZc28JO1sR",
      "include_colab_link": true
    },
    "kernelspec": {
      "name": "python3",
      "display_name": "Python 3"
    }
  },
  "cells": [
    {
      "cell_type": "markdown",
      "metadata": {
        "id": "view-in-github",
        "colab_type": "text"
      },
      "source": [
        "<a href=\"https://colab.research.google.com/github/ArthurRosin/Projeto_analise_de_dados_UFABC/blob/main/Matriz_de_energia_el%C3%A9trica_brasileira_e_linhas_de_transmiss%C3%A3o_de_energia_el%C3%A9trica.ipynb\" target=\"_parent\"><img src=\"https://colab.research.google.com/assets/colab-badge.svg\" alt=\"Open In Colab\"/></a>"
      ]
    },
    {
      "cell_type": "markdown",
      "metadata": {
        "id": "HsO22c-E0W35"
      },
      "source": [
        "# **Matriz de energia elétrica brasileira e linhas de transmissão de energia elétrica**\n",
        "\n",
        "---\n",
        "\n",
        "\n"
      ]
    },
    {
      "cell_type": "markdown",
      "metadata": {
        "id": "ycsOU8xwAO3S"
      },
      "source": [
        "## **1. Apresentação do projeto**\n",
        "\n",
        "---\n",
        "\n"
      ]
    },
    {
      "cell_type": "markdown",
      "metadata": {
        "id": "5418mIE07eaF"
      },
      "source": [
        "A energia elétrica tornou-se algo de suma importância para manutenção da vida humana ao longo dos anos, sua crescente demanda trouxe consigo um grande desafio para as ciências e engenharias modernas. Logo, tornou-se necessário a realização de estudos e previsões cientifícas para que sua implementação possa suprir toda demanda futura e consequentemente ser bem-sucedida. Desta forma, a realização deste projeto é, por meio do uso da computação, mas especificamente, da linguagem de programação “Python”, realizar um estudo que possa, cientificamente, prever futuros desafios acerca da demanda de energia elétrica brasileira e de forma prévia gerar informações úteis para o futuro."
      ]
    },
    {
      "cell_type": "markdown",
      "metadata": {
        "id": "ttyKoOj57wPM"
      },
      "source": [
        "Para realização deste projeto, serão usadas duas bases de dados públicas da Agência Nacional de Energia Elétrica (ANEEL) que podem ser **baixadas** nos links a seguir:"
      ]
    },
    {
      "cell_type": "markdown",
      "metadata": {
        "id": "V1LdDfo4_gqU"
      },
      "source": [
        "1º Link: [Geração por fonte](http://www.aneel.gov.br/dados/relatorios?p_p_id=dadosabertos_WAR_dadosabertosportlet&p_p_lifecycle=2&p_p_state=normal&p_p_mode=view&p_p_resource_id=gerarGeracaoFonteCSV&p_p_cacheability=cacheLevelPage&p_p_col_id=column-2&p_p_col_count=1) - GWh (GigaWatt-hora)\n",
        "\n",
        "2º Link: [Linhas de transmissão concedidas](http://www.aneel.gov.br/dados/relatorios?p_p_id=dadosabertos_WAR_dadosabertosportlet&p_p_lifecycle=2&p_p_state=normal&p_p_mode=view&p_p_resource_id=gerarLinhaTransmissaoConcedidaCSV&p_p_cacheability=cacheLevelPage&p_p_col_id=column-2&p_p_col_count=1) - Km (Quilômetros)"
      ]
    },
    {
      "cell_type": "markdown",
      "metadata": {
        "id": "uPlhJ1S7Aojs"
      },
      "source": [
        "-> A primeira base de dados detalha a produção de energia em GWh (GigaWatt-hora) e \n",
        "os tipos de geradores utilizados no Brasil entre os anos 2000 e 2018.\n",
        "\n",
        "-> A segunda base de dados detalha o acréscimo anual das linhas de transmissão em Km (Quilômetros) no Brasil entre 2000 e 2018.\n",
        "\n",
        "\n",
        "\n"
      ]
    },
    {
      "cell_type": "markdown",
      "metadata": {
        "id": "ipWq0ZkgEmGg"
      },
      "source": [
        "## **2. Estudo**\n",
        "\n",
        "---\n",
        "\n"
      ]
    },
    {
      "cell_type": "markdown",
      "metadata": {
        "id": "ApIUzzNiiiTG"
      },
      "source": [
        "Importando todas bibliotecas que serão usadas para realização do estudo:"
      ]
    },
    {
      "cell_type": "code",
      "metadata": {
        "id": "zw8mtIHziKup"
      },
      "source": [
        "import pandas as pd\n",
        "import numpy as np\n",
        "import matplotlib.pyplot as plt"
      ],
      "execution_count": 2,
      "outputs": []
    },
    {
      "cell_type": "markdown",
      "metadata": {
        "id": "u1ZqHlA-F7nJ"
      },
      "source": [
        "### **2.1 Matriz energica em 2028**\n",
        "---"
      ]
    },
    {
      "cell_type": "markdown",
      "metadata": {
        "id": "43ae9EwPfa7D"
      },
      "source": [
        "Vamos considerar um período de dez anos para o nosso estudo, sendo o nosso primeiro objetivo fazer uma comparação da matriz de energia elétrica brasileira de 2018 com a matriz de 2028. Para isso, vamos comparar o histograma da matriz de cada respectivo ano. O primeiro passo é inserir a primera base de dados:"
      ]
    },
    {
      "cell_type": "code",
      "metadata": {
        "id": "WRUq-jUBVh0D"
      },
      "source": [
        "df = pd.read_csv(\"http://drive.google.com/uc?export=download&id=1oP7VyXvh0kf7dRt_q4l7ltDcoZmZieUN\", sep=\",\")"
      ],
      "execution_count": 3,
      "outputs": []
    },
    {
      "cell_type": "markdown",
      "metadata": {
        "id": "OzSz__b9W9RY"
      },
      "source": [
        "Após inserir a base de dados, foi criado um programa que calcula o aumento ou a diminuição da produção de oito tipos de energia, em um período de 10 anos,   em porcentagem, sendo elas: \n",
        "\n",
        "1.   Hidreletricas exclusive itaipu\n",
        "2.   Itaipu\n",
        "3.   óleo diesel/combutível\n",
        "4.   Gás Natural\n",
        "5.   Carvão\n",
        "6.   Eólicas\n",
        "7.   Biomassas\n",
        "8.   Nuclear\n",
        "\n",
        "\n",
        "\n",
        "\n"
      ]
    },
    {
      "cell_type": "code",
      "metadata": {
        "id": "aPv_i0EXpXdu"
      },
      "source": [
        "crescimento_2010 = []\n",
        "crescimento_2020 = []\n",
        "media_crescimento = []\n",
        "\n",
        "cres_hidroeletricas = []\n",
        "for anos in range(2000,2011, 10):\n",
        "    hidreletricas_exclusive_itaipu = df.query(f'nomFonteGeracao == \"Hidreletricas exclusive Itaipu\" and anoReferencia == \"{anos}\"')\n",
        "    media_hidreletricas = hidreletricas_exclusive_itaipu[\"mdaEnergiaDespachadaGWh\"].mean()\n",
        "    cres_hidroeletricas.append(media_hidreletricas)\n",
        "crescimento_1 = ((cres_hidroeletricas[1] - cres_hidroeletricas[0])/cres_hidroeletricas[0])\n",
        "crescimento_2010.append(crescimento_1)\n",
        "\n",
        "for anos in range(2010,2020, 8):\n",
        "    hidreletricas_exclusive_itaipu = df.query(f'nomFonteGeracao == \"Hidreletricas exclusive Itaipu\" and anoReferencia == \"{anos}\"')\n",
        "    media_hidreletricas = hidreletricas_exclusive_itaipu[\"mdaEnergiaDespachadaGWh\"].mean()\n",
        "    cres_hidroeletricas.append(media_hidreletricas)\n",
        "crescimento_1_1 = ((cres_hidroeletricas[3] - cres_hidroeletricas[2])/cres_hidroeletricas[2])\n",
        "crescimento_2020.append(crescimento_1_1)\n",
        "\n",
        "cres_itaipu = []\n",
        "for anos in range(2000,2011, 10):\n",
        "    itaipu = df.query(f'nomFonteGeracao == \"Itaipu\" and anoReferencia == \"{anos}\"')\n",
        "    media_itaipu = itaipu[\"mdaEnergiaDespachadaGWh\"].mean()\n",
        "    cres_itaipu.append(media_itaipu)\n",
        "crescimento_1 = ((cres_itaipu[1] - cres_itaipu[0])/cres_itaipu[0])\n",
        "crescimento_2010.append(crescimento_1)\n",
        "\n",
        "for anos in range(2010,2020, 8):\n",
        "    itaipu = df.query(f'nomFonteGeracao == \"Itaipu\" and anoReferencia == \"{anos}\"')\n",
        "    media_itaipu = itaipu[\"mdaEnergiaDespachadaGWh\"].mean()\n",
        "    cres_itaipu.append(media_itaipu)\n",
        "crescimento_1_1 = ((cres_itaipu[3] - cres_itaipu[2])/cres_itaipu[2])\n",
        "crescimento_2020.append(crescimento_1_1)\n",
        "\n",
        "cres_diesel_combustivel = []\n",
        "for anos in range(2000,2011, 10):\n",
        "    diesel_combustivel = df.query(f'nomFonteGeracao == \"Oleo Diesel / Combustivel\" and anoReferencia == \"{anos}\"')\n",
        "    media_diesel_combustivel = diesel_combustivel[\"mdaEnergiaDespachadaGWh\"].mean()\n",
        "    cres_diesel_combustivel.append(media_diesel_combustivel)\n",
        "crescimento_1 = ((cres_diesel_combustivel[1] - cres_diesel_combustivel[0])/cres_diesel_combustivel[0])\n",
        "crescimento_2010.append(crescimento_1)\n",
        "\n",
        "for anos in range(2010,2020, 8):\n",
        "    diesel_combustivel = df.query(f'nomFonteGeracao == \"Oleo Diesel / Combustivel\" and anoReferencia == \"{anos}\"')\n",
        "    media_diesel_combustivel = diesel_combustivel[\"mdaEnergiaDespachadaGWh\"].mean()\n",
        "    cres_diesel_combustivel.append(media_diesel_combustivel)\n",
        "crescimento_1_1 = ((cres_diesel_combustivel[3] - cres_diesel_combustivel[2])/cres_diesel_combustivel[2])\n",
        "crescimento_2020.append(crescimento_1_1)\n",
        "\n",
        "cres_gas_natural = []\n",
        "for anos in range(2000,2011, 10):\n",
        "    gas_natural = df.query(f'nomFonteGeracao == \"Gas Natural\" and anoReferencia == \"{anos}\"')\n",
        "    media_gas_natural =gas_natural[\"mdaEnergiaDespachadaGWh\"].mean()\n",
        "    cres_gas_natural.append(media_gas_natural)\n",
        "crescimento_1 = ((cres_gas_natural[1] - cres_gas_natural[0])/cres_gas_natural[0])\n",
        "crescimento_2010.append(crescimento_1)\n",
        "\n",
        "for anos in range(2010,2020, 8):\n",
        "    gas_natural = df.query(f'nomFonteGeracao == \"Gas Natural\" and anoReferencia == \"{anos}\"')\n",
        "    media_gas_natural =gas_natural[\"mdaEnergiaDespachadaGWh\"].mean()\n",
        "    cres_gas_natural.append(media_gas_natural)\n",
        "crescimento_1_1 = ((cres_gas_natural[3] - cres_gas_natural[2])/cres_gas_natural[2])\n",
        "crescimento_2020.append(crescimento_1_1)\n",
        "\n",
        "cres_carvao = []\n",
        "for anos in range(2000,2011, 10):\n",
        "    carvao = df.query(f'nomFonteGeracao == \"Carvao\" and anoReferencia == \"{anos}\"')\n",
        "    media_carvao =carvao[\"mdaEnergiaDespachadaGWh\"].mean()\n",
        "    cres_carvao.append(media_carvao)\n",
        "crescimento_1 = ((cres_carvao[1] - cres_carvao[0])/cres_carvao[0])\n",
        "crescimento_2010.append(crescimento_1)\n",
        "\n",
        "for anos in range(2010,2020, 8):\n",
        "    carvao = df.query(f'nomFonteGeracao == \"Carvao\" and anoReferencia == \"{anos}\"')\n",
        "    media_carvao = carvao[\"mdaEnergiaDespachadaGWh\"].mean()\n",
        "    cres_carvao.append(media_carvao)\n",
        "crescimento_1_1 = ((cres_carvao[3] - cres_carvao[2])/cres_carvao[2])\n",
        "crescimento_2020.append(crescimento_1_1)\n",
        "\n",
        "cres_eolicas = []\n",
        "for anos in range(2000,2011, 10):\n",
        "    eolicas = df.query(f'nomFonteGeracao == \"Eolicas\" and anoReferencia == \"{anos}\"')\n",
        "    media_eolicas =eolicas[\"mdaEnergiaDespachadaGWh\"].mean()\n",
        "    cres_eolicas.append(media_eolicas)\n",
        "crescimento_1 = 0\n",
        "crescimento_2010.append(crescimento_1)\n",
        "\n",
        "for anos in range(2010,2020, 8):\n",
        "    eolicas = df.query(f'nomFonteGeracao == \"Eolicas\" and anoReferencia == \"{anos}\"')\n",
        "    media_eolicas = eolicas[\"mdaEnergiaDespachadaGWh\"].mean()\n",
        "    cres_eolicas.append(media_eolicas)\n",
        "crescimento_1_1 = ((cres_eolicas[3] - cres_eolicas[2])/cres_eolicas[2])\n",
        "crescimento_2020.append(crescimento_1_1)\n",
        "\n",
        "cres_biomassas = []\n",
        "for anos in range(2000,2011, 10):\n",
        "    biomassas = df.query(f'nomFonteGeracao == \"Biomassas\" and anoReferencia == \"{anos}\"')\n",
        "    media_biomassas =biomassas[\"mdaEnergiaDespachadaGWh\"].mean()\n",
        "    cres_biomassas.append(media_biomassas)\n",
        "crescimento_1 = 0\n",
        "crescimento_2010.append(crescimento_1)\n",
        "\n",
        "for anos in range(2010,2020, 8):\n",
        "    biomassas = df.query(f'nomFonteGeracao == \"Biomassas\" and anoReferencia == \"{anos}\"')\n",
        "    media_biomassas = biomassas[\"mdaEnergiaDespachadaGWh\"].mean()\n",
        "    cres_biomassas.append(media_biomassas)\n",
        "crescimento_1_1 = ((cres_biomassas[3] - cres_biomassas[2])/cres_biomassas[2])\n",
        "crescimento_2020.append(crescimento_1_1)\n",
        "\n",
        "cres_nuclear = []\n",
        "for anos in range(2001,2011, 9):\n",
        "    nuclear = df.query(f'nomFonteGeracao == \"Nuclear\" and anoReferencia == \"{anos}\"')\n",
        "    media_nuclear =nuclear[\"mdaEnergiaDespachadaGWh\"].mean()\n",
        "    cres_nuclear.append(media_nuclear)\n",
        "crescimento_1 = ((cres_nuclear[1] - cres_nuclear[0])/cres_nuclear[0])\n",
        "crescimento_2010.append(crescimento_1)\n",
        "\n",
        "for anos in range(2010,2020, 8):\n",
        "    nuclear = df.query(f'nomFonteGeracao == \"Nuclear\" and anoReferencia == \"{anos}\"')\n",
        "    media_nuclear = nuclear[\"mdaEnergiaDespachadaGWh\"].mean()\n",
        "    cres_nuclear.append(media_nuclear)\n",
        "crescimento_1_1 = ((cres_nuclear[3] - cres_nuclear[2])/cres_nuclear[2])\n",
        "crescimento_2020.append(crescimento_1_1)\n",
        "\n",
        "for i in range(0,8):\n",
        "    media_crescimento_final = (crescimento_2010[i] + crescimento_2020[i])/2\n",
        "    media_crescimento.append(media_crescimento_final)"
      ],
      "execution_count": 4,
      "outputs": []
    },
    {
      "cell_type": "markdown",
      "metadata": {
        "id": "64buIvRrpg4K"
      },
      "source": [
        "O programa acima fez o cálculo, em porcentagem, do crescimento da produção de energia elétrica a cada 10 anos. O crescimento observado é este:"
      ]
    },
    {
      "cell_type": "code",
      "metadata": {
        "colab": {
          "base_uri": "https://localhost:8080/"
        },
        "id": "6IXCouNFtfbL",
        "outputId": "91f4f238-3212-42f7-af34-6b38a12d9127"
      },
      "source": [
        "crescimento_porcentagem = {\"Fonte Geradora\":[\"Hidreletricas exclusive Itaipu\", \"Itaipu\", \"Oleo Diesel / Combustivel\", \"Gas Natural\", \"Carvao\", \"Eolicas\", \"Biomassas\", \"Nuclear\"], \"Porcentagem de crescimento\": media_crescimento}\n",
        "df_crescimento_porcentagem = pd.DataFrame(data = crescimento_porcentagem)\n",
        "print(\"A cada 10 anos:\")\n",
        "print(df_crescimento_porcentagem)"
      ],
      "execution_count": 5,
      "outputs": [
        {
          "output_type": "stream",
          "name": "stdout",
          "text": [
            "A cada 10 anos:\n",
            "                   Fonte Geradora  Porcentagem de crescimento\n",
            "0  Hidreletricas exclusive Itaipu                    0.202555\n",
            "1                          Itaipu                    0.001552\n",
            "2       Oleo Diesel / Combustivel                    1.088995\n",
            "3                     Gas Natural                    1.712357\n",
            "4                          Carvao                    0.480705\n",
            "5                         Eolicas                   16.852044\n",
            "6                       Biomassas                   15.990510\n",
            "7                         Nuclear                    0.041327\n"
          ]
        }
      ]
    },
    {
      "cell_type": "markdown",
      "metadata": {
        "id": "PA3Dl_1Tvr5F"
      },
      "source": [
        "Usando como base esses números, podemos tentar realizar uma previsão da matriz energética brasileira em 2028, e assim comparar com a mais atualizada no momento (2018). Para isso foi criado um código que fará o calculo da quantidade de energia despachada no ano de 2028:"
      ]
    },
    {
      "cell_type": "code",
      "metadata": {
        "id": "IRkdjfZZw0O0",
        "colab": {
          "base_uri": "https://localhost:8080/"
        },
        "outputId": "5f345441-627e-4645-c61f-b0e084bd5db6"
      },
      "source": [
        "hist_2018 = []\n",
        "total_1 = 0\n",
        "total_2 = 0\n",
        "total_3 = 0\n",
        "total_4 = 0\n",
        "total_5 = 0\n",
        "total_6 = 0\n",
        "total_7 = 0\n",
        "total_8 = 0\n",
        "\n",
        "for mes in range(1,13):\n",
        "    df_hist_hidreletrica = df.query(f'anoReferencia == \"2018\" and mesReferencia == \"{mes}\" and nomFonteGeracao == \"Hidreletricas exclusive Itaipu\"')\n",
        "    soma_hidreletrica = df_hist_hidreletrica[\"mdaEnergiaDespachadaGWh\"]\n",
        "    for valores in soma_hidreletrica:\n",
        "        total_1 = total_1 + valores\n",
        "hist_2018.append(total_1)\n",
        "\n",
        "for mes in range(1,13):\n",
        "    df_hist_itaipu = df.query(f'anoReferencia == \"2018\" and mesReferencia == \"{mes}\" and nomFonteGeracao == \"Itaipu\"')\n",
        "    soma_itaipu = df_hist_itaipu[\"mdaEnergiaDespachadaGWh\"]\n",
        "    for valores in soma_itaipu:\n",
        "        total_2 = total_2 + valores\n",
        "hist_2018.append(total_2)\n",
        "\n",
        "for mes in range(1,13):\n",
        "    df_hist_Oleo_diesel_combustivel = df.query(f'anoReferencia == \"2018\" and mesReferencia == \"{mes}\" and nomFonteGeracao == \"Oleo Diesel / Combustivel\"')\n",
        "    soma_Oleo_diesel_combustivel = df_hist_Oleo_diesel_combustivel[\"mdaEnergiaDespachadaGWh\"]\n",
        "    for valores in soma_Oleo_diesel_combustivel:\n",
        "        total_3 = total_3 + valores\n",
        "hist_2018.append(total_3)\n",
        "\n",
        "for mes in range(1,13):\n",
        "    df_hist_gas_natural = df.query(f'anoReferencia == \"2018\" and mesReferencia == \"{mes}\" and nomFonteGeracao == \"Gas Natural\"')\n",
        "    soma_gas_natural = df_hist_gas_natural[\"mdaEnergiaDespachadaGWh\"]\n",
        "    for valores in soma_gas_natural:\n",
        "        total_4 = total_4 + valores\n",
        "hist_2018.append(total_4)\n",
        "\n",
        "for mes in range(1,13):\n",
        "    df_hist_carvao = df.query(f'anoReferencia == \"2018\" and mesReferencia == \"{mes}\" and nomFonteGeracao == \"Carvao\"')\n",
        "    soma_carvao = df_hist_carvao[\"mdaEnergiaDespachadaGWh\"]\n",
        "    for valores in soma_carvao:\n",
        "        total_5 = total_5 + valores\n",
        "hist_2018.append(total_5)\n",
        "\n",
        "for mes in range(1,13):\n",
        "    df_hist_eolicas = df.query(f'anoReferencia == \"2018\" and mesReferencia == \"{mes}\" and nomFonteGeracao == \"Eolicas\"')\n",
        "    soma_eolicas = df_hist_eolicas[\"mdaEnergiaDespachadaGWh\"]\n",
        "    for valores in soma_eolicas:\n",
        "        total_6 = total_6 + valores\n",
        "hist_2018.append(total_6)\n",
        "\n",
        "for mes in range(1,13):\n",
        "    df_hist_biomassas = df.query(f'anoReferencia == \"2018\" and mesReferencia == \"{mes}\" and nomFonteGeracao == \"Biomassas\"')\n",
        "    soma_biomassas = df_hist_biomassas[\"mdaEnergiaDespachadaGWh\"]\n",
        "    for valores in soma_biomassas:\n",
        "        total_7 = total_7 + valores\n",
        "hist_2018.append(total_7)\n",
        "\n",
        "for mes in range(1,13):\n",
        "    df_hist_nuclear = df.query(f'anoReferencia == \"2018\" and mesReferencia == \"{mes}\" and nomFonteGeracao == \"Nuclear\"')\n",
        "    soma_nuclear = df_hist_nuclear[\"mdaEnergiaDespachadaGWh\"]\n",
        "    for valores in soma_nuclear:\n",
        "        total_8 = total_8 + valores\n",
        "hist_2018.append(total_8)\n",
        "\n",
        "hist_2028 = []\n",
        "for i in range(0, 8):\n",
        "    crescimento_2028 = (((hist_2018[i]*media_crescimento[i])/100) + hist_2018[i])\n",
        "    hist_2028.append(crescimento_2028)\n",
        "\n",
        "geradores = [\"Hidreletricas exclusive Itaipu\", \"Itaipu\", \"Oleo Diesel / Combustivel\", \"Gas Natural\", \"Carvao\", \"Eolicas\", \"Biomassas\", \"Nuclear\"]\n",
        "\n",
        "dados_2018 = {\"Ano\": 2018, \"Fonte Geradora\":[\"Hidreletricas exclusive Itaipu\", \"Itaipu\", \"Oleo Diesel / Combustivel\", \"Gas Natural\", \"Carvao\", \"Eolicas\", \"Biomassas\", \"Nuclear\"], \"Energia Despachada\": hist_2018}\n",
        "df_crescimento_geral_2018 = pd.DataFrame(data = dados_2018)\n",
        "print(df_crescimento_geral_2018)\n",
        "\n",
        "dados_2028 = {\"Ano\": 2028,\"Fonte Geradora\":[\"Hidreletricas exclusive Itaipu\", \"Itaipu\", \"Oleo Diesel / Combustivel\", \"Gas Natural\", \"Carvao\", \"Eolicas\", \"Biomassas\", \"Nuclear\"], \"Energia Despachada\": hist_2028}\n",
        "df_crescimento_geral_2028 = pd.DataFrame(data = dados_2028)\n",
        "print(df_crescimento_geral_2028)"
      ],
      "execution_count": 6,
      "outputs": [
        {
          "output_type": "stream",
          "name": "stdout",
          "text": [
            "    Ano                  Fonte Geradora  Energia Despachada\n",
            "0  2018  Hidreletricas exclusive Itaipu       323458.566509\n",
            "1  2018                          Itaipu        80157.906392\n",
            "2  2018       Oleo Diesel / Combustivel         6103.918949\n",
            "3  2018                     Gas Natural        41833.510312\n",
            "4  2018                          Carvao        12567.356132\n",
            "5  2018                         Eolicas        45148.016764\n",
            "6  2018                       Biomassas         8746.024599\n",
            "7  2018                         Nuclear        15474.412837\n",
            "    Ano                  Fonte Geradora  Energia Despachada\n",
            "0  2028  Hidreletricas exclusive Itaipu       324113.749133\n",
            "1  2028                          Itaipu        80159.150237\n",
            "2  2028       Oleo Diesel / Combustivel         6170.390338\n",
            "3  2028                     Gas Natural        42549.849337\n",
            "4  2028                          Carvao        12627.768005\n",
            "5  2028                         Eolicas        52756.380355\n",
            "6  2028                       Biomassas        10144.558524\n",
            "7  2028                         Nuclear        15480.808002\n"
          ]
        }
      ]
    },
    {
      "cell_type": "markdown",
      "metadata": {
        "id": "M3KAlNnOyerN"
      },
      "source": [
        "Após todos os dados calculados, podemos comparar as matrizes energéticas dos respctivos anos:"
      ]
    },
    {
      "cell_type": "code",
      "metadata": {
        "colab": {
          "base_uri": "https://localhost:8080/",
          "height": 350
        },
        "id": "NIwLuaY3y2q8",
        "outputId": "08f4d86c-48c7-44f7-d0fc-def1aeb8143d"
      },
      "source": [
        "plt.title('Matriz energética de 2018')\n",
        "plt.xlabel('energia (GWh)')\n",
        "plt.ylabel('Geradores')\n",
        "plt.yticks(rotation=45)\n",
        "plt.barh(geradores, hist_2018, color = 'b')\n",
        "plt.show()"
      ],
      "execution_count": 7,
      "outputs": [
        {
          "output_type": "display_data",
          "data": {
            "image/png": "[encoded data removed]",
            "text/plain": [
              "<Figure size 432x288 with 1 Axes>"
            ]
          },
          "metadata": {
            "needs_background": "light"
          }
        }
      ]
    },
    {
      "cell_type": "code",
      "metadata": {
        "colab": {
          "base_uri": "https://localhost:8080/",
          "height": 350
        },
        "id": "B4mVkhFp3zzB",
        "outputId": "a4b06619-25d4-4bc2-9018-31d3d871834a"
      },
      "source": [
        "plt.title('Matriz energética de 2028')\n",
        "plt.xlabel('energia (GWh)')\n",
        "plt.ylabel('Geradores')\n",
        "plt.yticks(rotation=45)\n",
        "plt.barh(geradores, hist_2028, color = 'r')\n",
        "plt.show()"
      ],
      "execution_count": 8,
      "outputs": [
        {
          "output_type": "display_data",
          "data": {
            "image/png": "[encoded data removed]",
            "text/plain": [
              "<Figure size 432x288 with 1 Axes>"
            ]
          },
          "metadata": {
            "needs_background": "light"
          }
        }
      ]
    },
    {
      "cell_type": "markdown",
      "metadata": {
        "id": "EZeBVE-ECJRR"
      },
      "source": [
        "### **2.2 Relação entre energia despachada e linhas de transmissão**\n",
        "---"
      ]
    },
    {
      "cell_type": "markdown",
      "metadata": {
        "id": "lBo63dyDCzuK"
      },
      "source": [
        "Os desafios da área enegética vão além da produção energética, pois é necessária uma grande infraestrutura, uma fração desta infraestrutura, são as linhas de transmissão, estas são responsáveis por transportar a energia produzida até o consumidor final."
      ]
    },
    {
      "cell_type": "markdown",
      "metadata": {
        "id": "754WOAJFIxSI"
      },
      "source": [
        "Vamos importar a nossa segunda base de dados:"
      ]
    },
    {
      "cell_type": "code",
      "metadata": {
        "id": "XsAOQ3BCIsh4"
      },
      "source": [
        "df_2 = pd.read_csv(\"http://drive.google.com/uc?export=download&id=10O76Ldt7D5P9bwbs8bN5ouZd9VG4VVzP\", sep=\",\", decimal=\".\")"
      ],
      "execution_count": 9,
      "outputs": []
    },
    {
      "cell_type": "markdown",
      "metadata": {
        "id": "wX5A-_YXFahM"
      },
      "source": [
        "Pensando de uma maneira lógica, se há um aumento na produção energética, consequentemente deveria ser ampliada a extensão das linhas de transmissão. Será que está lógica é confirmada numericamente? Para entender se há alguma relação entre produção energética e ampliação de linhas de transmissão, foi criado um programa que irá correlacionar estas duas variáveis."
      ]
    },
    {
      "cell_type": "code",
      "metadata": {
        "colab": {
          "base_uri": "https://localhost:8080/"
        },
        "id": "ADeBpkYfILso",
        "outputId": "de5a1ae7-fef1-42e6-8b0e-4cad610cc071"
      },
      "source": [
        "energia_despachada_anos = []\n",
        "for anos in range(2000,2019):\n",
        "    energia_despachada = df.fillna(0, inplace = True)\n",
        "    energia_despachada = df.query(f'anoReferencia == \"{anos}\"')\n",
        "    total = energia_despachada[\"mdaEnergiaDespachadaGWh\"]\n",
        "    total = sum(total)\n",
        "    total = total\n",
        "    energia_despachada_anos.append(total)\n",
        "\n",
        "anos_2 = []\n",
        "for i in range(2000,2019):\n",
        "    anos_lista = i\n",
        "    anos_2.append(anos_lista)\n",
        "\n",
        "lista_linhas_transmissao = []\n",
        "for anos in range(2000, 2019):\n",
        "    linhas_transmissao = df_2.query(f'anoReferencia == \"{anos}\"')\n",
        "    lista_linhas = linhas_transmissao[\"MdaAcrescimoLinhaTransmissaoKm\"].to_string(index = False)\n",
        "    lista_linhas = float(lista_linhas)\n",
        "    lista_linhas_transmissao.append(lista_linhas)\n",
        "\n",
        "despachada_energia = {\"Ano\": anos_2,\"Energia despachada\": energia_despachada_anos, \"Linhas de transmissão\": lista_linhas_transmissao}\n",
        "df_despachada_energia = pd.DataFrame(data = despachada_energia)\n",
        "df_despachada_energia.values\n",
        "print(df_despachada_energia)"
      ],
      "execution_count": 10,
      "outputs": [
        {
          "output_type": "stream",
          "name": "stdout",
          "text": [
            "     Ano  Energia despachada  Linhas de transmissão\n",
            "0   2000       335697.373426                2079.90\n",
            "1   2001       326062.129739                1149.70\n",
            "2   2002       329209.337363                2437.90\n",
            "3   2003       365511.772871                4979.90\n",
            "4   2004       385117.184602                2313.50\n",
            "5   2005       400565.260611                3035.70\n",
            "6   2006       416278.793333                3198.00\n",
            "7   2007       435912.107130                 995.40\n",
            "8   2008       445497.238671                3098.40\n",
            "9   2009       442426.845777                3012.50\n",
            "10  2010       473526.481120                2524.00\n",
            "11  2011       489492.809981                2672.00\n",
            "12  2012       509931.383890                1635.80\n",
            "13  2013       520636.002750                4544.39\n",
            "14  2014       523912.584160                8876.50\n",
            "15  2015       529058.067132                1536.00\n",
            "16  2016       527933.936999                3439.00\n",
            "17  2017       536876.471822                4886.00\n",
            "18  2018       533489.712493                3966.70\n"
          ]
        }
      ]
    },
    {
      "cell_type": "markdown",
      "metadata": {
        "id": "IZyK0TpOQO0A"
      },
      "source": [
        "Primeiramente, para realizar a análise vamos observar a incidência da ampliação da malha de rede de transmissão ao longo dos anos:"
      ]
    },
    {
      "cell_type": "code",
      "metadata": {
        "colab": {
          "base_uri": "https://localhost:8080/",
          "height": 295
        },
        "id": "YdIaqIxhRPRT",
        "outputId": "f0bb9fd8-4147-4d7c-8e77-a7f9e5c0c08f"
      },
      "source": [
        "plt.title('Implementação linhas de transmissão')\n",
        "plt.xlabel('linhas de transmissão (Km)')\n",
        "plt.ylabel('Quantidade - incidência por anos')\n",
        "plt.hist(lista_linhas_transmissao)\n",
        "plt.show()"
      ],
      "execution_count": 11,
      "outputs": [
        {
          "output_type": "display_data",
          "data": {
            "image/png": "[encoded data removed]",
            "text/plain": [
              "<Figure size 432x288 with 1 Axes>"
            ]
          },
          "metadata": {
            "needs_background": "light"
          }
        }
      ]
    },
    {
      "cell_type": "markdown",
      "metadata": {
        "id": "_RyHXaq2SimT"
      },
      "source": [
        "Podemos observar que a malha da rede elétrica cresce, geralmente, de 1000 a 3000 quilomentros anualmente, isto é, onde há a maior incidência de crescimento."
      ]
    },
    {
      "cell_type": "markdown",
      "metadata": {
        "id": "YmKkU0rbMmYq"
      },
      "source": [
        "Agora que já obervamos os dados acima, podemos efetivamente ver se há alguma relação entre produção energética e ampliação de linhas de transmissão, isto é, vamos analisar a correlação entre as duas variáveis:"
      ]
    },
    {
      "cell_type": "code",
      "metadata": {
        "colab": {
          "base_uri": "https://localhost:8080/"
        },
        "id": "rGhVz6LtMiqg",
        "outputId": "e5b3a2e6-319e-4a83-8b8a-3bf5d588f803"
      },
      "source": [
        "correlacao = df_despachada_energia[\"Energia despachada\"].corr(df_despachada_energia[\"Linhas de transmissão\"])\n",
        "print(f\"A correlação entre as duas variáveis: {correlacao :.2f}\")"
      ],
      "execution_count": 12,
      "outputs": [
        {
          "output_type": "stream",
          "name": "stdout",
          "text": [
            "A correlação entre as duas variáveis: 0.37\n"
          ]
        }
      ]
    },
    {
      "cell_type": "markdown",
      "metadata": {
        "id": "sm5zTlSiMsRl"
      },
      "source": [
        "Podemos observar que o grau de afinidade entre a geração anual de energia e a ampliação das linhas de transmissão é baixa,ou seja, mesmo que a geração de energia aumente, a implementação de linhas não é proporcional. Vejamos isso por meio de gráficos:"
      ]
    },
    {
      "cell_type": "code",
      "metadata": {
        "id": "og5SGwHTCjFx",
        "colab": {
          "base_uri": "https://localhost:8080/",
          "height": 295
        },
        "outputId": "dd5ae68f-f08f-4de9-c476-e35b44ee00e5"
      },
      "source": [
        "plt.plot(energia_despachada_anos, lista_linhas_transmissao, \".\", color = \"red\")\n",
        "plt.title('Gráfico de dispersão')\n",
        "ax = plt.gca()\n",
        "ax.set_xlabel(\"Energia despachada (GWh)\")\n",
        "ax.set_ylabel(\"Linhas de transmissão (Km)\")\n",
        "plt.show()"
      ],
      "execution_count": 13,
      "outputs": [
        {
          "output_type": "display_data",
          "data": {
            "image/png": "[encoded data removed]",
            "text/plain": [
              "<Figure size 432x288 with 1 Axes>"
            ]
          },
          "metadata": {
            "needs_background": "light"
          }
        }
      ]
    },
    {
      "cell_type": "markdown",
      "metadata": {
        "id": "Vbn4LD10dFMw"
      },
      "source": [
        "Podemos observar que os pontos que representam as interseção das duas variáveis ao longo dos anos, não seguem uma lógica."
      ]
    },
    {
      "cell_type": "markdown",
      "metadata": {
        "id": "7-4w4yVnTHCt"
      },
      "source": [
        "### **2.3 Ampliação das linhas de transmissão no futuro**\n",
        "---"
      ]
    },
    {
      "cell_type": "markdown",
      "metadata": {
        "id": "Ky-FRuxlT4Yf"
      },
      "source": [
        "Agora que já obtemos dados relacionados a previsão da produção de energia no ano de 2028 e também analisamos a relação da geração de energia com a ampliação das linhas de transmissão. Podemos fazer uma previsão acerca da ampliação das linhas de transmissão em 2028. Para isso, foi criado um programa que irá traçar uma reta qual relacionará as duas variáveis em questão:"
      ]
    },
    {
      "cell_type": "code",
      "metadata": {
        "colab": {
          "base_uri": "https://localhost:8080/",
          "height": 295
        },
        "id": "FwhVMocRWChk",
        "outputId": "1cec0707-75f0-4749-bb57-1b59c53f19dd"
      },
      "source": [
        "a, b = np.polyfit(df_despachada_energia['Energia despachada'], df_despachada_energia['Linhas de transmissão'], deg = 1)\n",
        "\n",
        "plt.scatter(df_despachada_energia['Energia despachada'], df_despachada_energia['Linhas de transmissão'], 50, color='blue')\n",
        "plt.title('Gráfico de reta de regressão')\n",
        "ax = plt.gca()\n",
        "ax.set_xlabel(\"Energia despachada (GWh)\")\n",
        "ax.set_ylabel(\"Linhas de transmissão (Km)\")\n",
        "x = df_despachada_energia['Energia despachada']\n",
        "y = a*x + b\n",
        "plt.plot(x,y, linewidth=2.0, linestyle=\"-\", color=\"red\")\n",
        "plt.grid()\n",
        "plt.show()"
      ],
      "execution_count": null,
      "outputs": [
        {
          "output_type": "display_data",
          "data": {
            "image/png": "[encoded data removed]",
            "text/plain": [
              "<Figure size 432x288 with 1 Axes>"
            ]
          },
          "metadata": {
            "tags": [],
            "needs_background": "light"
          }
        }
      ]
    },
    {
      "cell_type": "markdown",
      "metadata": {
        "id": "p71XuRJYXF6i"
      },
      "source": [
        "Está representação gráfica nos prova mais uma vez que as duas variáis possuem mínimas relações, no enteando, o programa criado poderá informar um perfil mínino de relação entre as variáveis por meio de uma equação, este perfil nos dará dois dados:"
      ]
    },
    {
      "cell_type": "code",
      "metadata": {
        "colab": {
          "base_uri": "https://localhost:8080/"
        },
        "id": "O7uUl6BkZkFz",
        "outputId": "b0c3c568-decf-4d9e-f35d-2508b7cd0a85"
      },
      "source": [
        "print(\"inclinação a = \", a)\n",
        "print(\"intercepto b = \", b)"
      ],
      "execution_count": null,
      "outputs": [
        {
          "output_type": "stream",
          "text": [
            "inclinação a =  0.008928871823165348\n",
            "intercepto b =  -829.2847286073068\n"
          ],
          "name": "stdout"
        }
      ]
    },
    {
      "cell_type": "markdown",
      "metadata": {
        "id": "1DCcKRYGZyTc"
      },
      "source": [
        "A partir destes dois dados, poderemos montar uma equação, esta equação poderá prever em quilometros, a amplição das linhas de transmissão no ano de 2028:\n",
        "*   \"y\"  representa a variével linhas de transmissão (dependente)\n",
        "*   \"x\"  representa a variével geração de energia (independente)\n",
        "\n",
        "y = 0.008610523203241682 * x + (-786.4227727894654)\n"
      ]
    },
    {
      "cell_type": "code",
      "metadata": {
        "colab": {
          "base_uri": "https://localhost:8080/"
        },
        "id": "gji2fE0DaSn2",
        "outputId": "e0bd492e-78e9-4ee6-f0d6-4aa62332a76a"
      },
      "source": [
        "energia_total_2028 = df_crescimento_geral_2028[\"Energia Despachada\"].sum()\n",
        "x = energia_total_2028\n",
        "y = a*x + b\n",
        "print(f\"A energia total produzida em 2028 será: {x :.2f} GWh\")\n",
        "print(f\"A rede de linhas de transmissão será ampliada em: {y :.2f} Km\")"
      ],
      "execution_count": null,
      "outputs": [
        {
          "output_type": "stream",
          "text": [
            "A energia total produzida em 2028 será: 544002.65 GWh\n",
            "A rede de linhas de transmissão será ampliada em: 4028.05 Km\n"
          ],
          "name": "stdout"
        }
      ]
    },
    {
      "cell_type": "markdown",
      "metadata": {
        "id": "oISzlgXWj9az"
      },
      "source": [
        "## **3. Conclusão**\n",
        "\n",
        "---\n"
      ]
    },
    {
      "cell_type": "markdown",
      "metadata": {
        "id": "hAIEJWDkkCEv"
      },
      "source": [
        "Ao final deste estudo, podemos usar os dados coletados e as analises gráficas para tomar algumas conclusões:"
      ]
    },
    {
      "cell_type": "markdown",
      "metadata": {
        "id": "CLLE1FemlWaG"
      },
      "source": [
        "1ª Conclusão: As matrizes energéticas de 2018 e de 2028 são estruturalmente iguais, há uma maior geração de energia total, sendo que o maoir crescimento será na produção de energia elétrica por geração eólica. O estudo em questão não leva em consideração o surgimento de novas fontes energéticas, mas estás poderiam alterar estruturalmente matrizes energéticas futuras. "
      ]
    },
    {
      "cell_type": "markdown",
      "metadata": {
        "id": "nVCmQu3ym5ne"
      },
      "source": [
        "2ª Conclusão: A produção de energia elétrica gerada quando associada com a ampliação da rede de linhas de transmissão, apresenta uma mínima relação. se observarmos atentamente, a cada ano a produção de energia total aumenta, mas a rede de transmissão não. Esse fenômeno pode levantar algumas especulações, por exemplo, o fato da produção energética não ser proporcional a ampliação da rede de transmissão, sugere que haja uma concentração geografica onde a damanda energética cresce, e consequentemente, área remotas permanencem sem energia elétrica."
      ]
    },
    {
      "cell_type": "markdown",
      "metadata": {
        "id": "NK2w_CYxqhNN"
      },
      "source": [
        "3ª Conclusão: A ampliação da rede de linhas de transmissão, como citado acima, está mínimamente associada a produção de energia, isso nos indica que embora a produção energética aumente, a malha de linhas de transmissão crescerá apenas a média de seu crescimento normal, desta forma, podemos concluir que a demanda de energia será maior em locais que já possuem acesso a energia elétrica."
      ]
    },
    {
      "cell_type": "markdown",
      "metadata": {
        "id": "5s8FlRDrw4H_"
      },
      "source": [
        "## **4.  Referências bibliográficas**\n",
        "\n",
        "---\n"
      ]
    },
    {
      "cell_type": "markdown",
      "metadata": {
        "id": "C5spkwqGxKZm"
      },
      "source": [
        "A realização deste projeto foi possóvel, também, pode oferecimento de dados dos seguintes sites:\n",
        "\n",
        "1.   ANEEL - Agência Nacional de Energia Elétrica - [Site ANEEL](https://www.aneel.gov.br/)\n",
        "2.   Materias providos pelo curso de Bases Conceituais de Energia (BCE) da Universidade Federal do ABC (UFABC) - [Site do curso](https://sites.google.com/site/bceufabc2020/6-apostilas-e-materiais-complementares)\n",
        "\n"
      ]
    }
  ]
}
